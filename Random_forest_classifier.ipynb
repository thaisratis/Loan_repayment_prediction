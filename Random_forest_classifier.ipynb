{
 "cells": [
  {
   "cell_type": "code",
   "execution_count": 2,
   "metadata": {
    "_cell_guid": "b1076dfc-b9ad-4769-8c92-a6c4dae69d19",
    "_uuid": "8f2839f25d086af736a60e9eeb907d3b93b6e0e5"
   },
   "outputs": [],
   "source": [
    "import numpy as np \n",
    "import pandas as pd\n",
    "pd.set_option('display.max_rows', 800)\n",
    "pd.set_option('display.max_columns', 500)\n",
    "\n",
    "import seaborn as sns\n",
    "import matplotlib.pyplot as plt\n",
    "%matplotlib inline\n",
    "\n",
    "# import all libraries and dependencies for machine learning\n",
    "from sklearn import preprocessing\n",
    "from sklearn.model_selection import train_test_split\n",
    "\n",
    "from sklearn.metrics import confusion_matrix \n",
    "from sklearn.metrics import accuracy_score \n",
    "from sklearn.metrics import classification_report\n",
    "from sklearn.ensemble import RandomForestClassifier\n",
    "from sklearn.model_selection import GridSearchCV "
   ]
  },
  {
   "cell_type": "markdown",
   "metadata": {},
   "source": [
    "# Load the pre-processed data"
   ]
  },
  {
   "cell_type": "code",
   "execution_count": 3,
   "metadata": {
    "_cell_guid": "79c7e3d0-c299-4dcb-8224-4455121ee9b0",
    "_uuid": "d629ff2d2480ee46fbb7e2d37f6b5fab8052498a"
   },
   "outputs": [],
   "source": [
    "df = pd.read_csv(\"loan_without_outliers.csv\")"
   ]
  },
  {
   "cell_type": "code",
   "execution_count": 5,
   "metadata": {},
   "outputs": [
    {
     "data": {
      "text/html": [
       "<div>\n",
       "<style scoped>\n",
       "    .dataframe tbody tr th:only-of-type {\n",
       "        vertical-align: middle;\n",
       "    }\n",
       "\n",
       "    .dataframe tbody tr th {\n",
       "        vertical-align: top;\n",
       "    }\n",
       "\n",
       "    .dataframe thead th {\n",
       "        text-align: right;\n",
       "    }\n",
       "</style>\n",
       "<table border=\"1\" class=\"dataframe\">\n",
       "  <thead>\n",
       "    <tr style=\"text-align: right;\">\n",
       "      <th></th>\n",
       "      <th>credit.policy</th>\n",
       "      <th>purpose</th>\n",
       "      <th>int.rate</th>\n",
       "      <th>installment</th>\n",
       "      <th>log.annual.inc</th>\n",
       "      <th>dti</th>\n",
       "      <th>fico</th>\n",
       "      <th>days.with.cr.line</th>\n",
       "      <th>revol.bal</th>\n",
       "      <th>revol.util</th>\n",
       "      <th>inq.last.6mths</th>\n",
       "      <th>delinq.2yrs</th>\n",
       "      <th>pub.rec</th>\n",
       "      <th>not.fully.paid</th>\n",
       "    </tr>\n",
       "  </thead>\n",
       "  <tbody>\n",
       "    <tr>\n",
       "      <th>0</th>\n",
       "      <td>1</td>\n",
       "      <td>2</td>\n",
       "      <td>0.1189</td>\n",
       "      <td>829.10</td>\n",
       "      <td>11.350407</td>\n",
       "      <td>19.48</td>\n",
       "      <td>737</td>\n",
       "      <td>5639.958333</td>\n",
       "      <td>28854</td>\n",
       "      <td>52.1</td>\n",
       "      <td>0</td>\n",
       "      <td>0</td>\n",
       "      <td>0</td>\n",
       "      <td>0</td>\n",
       "    </tr>\n",
       "    <tr>\n",
       "      <th>1</th>\n",
       "      <td>1</td>\n",
       "      <td>1</td>\n",
       "      <td>0.1071</td>\n",
       "      <td>228.22</td>\n",
       "      <td>11.082143</td>\n",
       "      <td>14.29</td>\n",
       "      <td>707</td>\n",
       "      <td>2760.000000</td>\n",
       "      <td>33623</td>\n",
       "      <td>76.7</td>\n",
       "      <td>0</td>\n",
       "      <td>0</td>\n",
       "      <td>0</td>\n",
       "      <td>0</td>\n",
       "    </tr>\n",
       "    <tr>\n",
       "      <th>2</th>\n",
       "      <td>1</td>\n",
       "      <td>2</td>\n",
       "      <td>0.1357</td>\n",
       "      <td>366.86</td>\n",
       "      <td>10.373491</td>\n",
       "      <td>11.63</td>\n",
       "      <td>682</td>\n",
       "      <td>4710.000000</td>\n",
       "      <td>3511</td>\n",
       "      <td>25.6</td>\n",
       "      <td>1</td>\n",
       "      <td>0</td>\n",
       "      <td>0</td>\n",
       "      <td>0</td>\n",
       "    </tr>\n",
       "    <tr>\n",
       "      <th>3</th>\n",
       "      <td>1</td>\n",
       "      <td>2</td>\n",
       "      <td>0.1008</td>\n",
       "      <td>162.34</td>\n",
       "      <td>11.350407</td>\n",
       "      <td>8.10</td>\n",
       "      <td>712</td>\n",
       "      <td>2699.958333</td>\n",
       "      <td>33667</td>\n",
       "      <td>73.2</td>\n",
       "      <td>1</td>\n",
       "      <td>0</td>\n",
       "      <td>0</td>\n",
       "      <td>0</td>\n",
       "    </tr>\n",
       "    <tr>\n",
       "      <th>4</th>\n",
       "      <td>1</td>\n",
       "      <td>1</td>\n",
       "      <td>0.1426</td>\n",
       "      <td>102.92</td>\n",
       "      <td>11.299732</td>\n",
       "      <td>14.97</td>\n",
       "      <td>667</td>\n",
       "      <td>4066.000000</td>\n",
       "      <td>4740</td>\n",
       "      <td>39.5</td>\n",
       "      <td>0</td>\n",
       "      <td>1</td>\n",
       "      <td>0</td>\n",
       "      <td>0</td>\n",
       "    </tr>\n",
       "  </tbody>\n",
       "</table>\n",
       "</div>"
      ],
      "text/plain": [
       "   credit.policy  purpose  int.rate  installment  log.annual.inc    dti  fico  \\\n",
       "0              1        2    0.1189       829.10       11.350407  19.48   737   \n",
       "1              1        1    0.1071       228.22       11.082143  14.29   707   \n",
       "2              1        2    0.1357       366.86       10.373491  11.63   682   \n",
       "3              1        2    0.1008       162.34       11.350407   8.10   712   \n",
       "4              1        1    0.1426       102.92       11.299732  14.97   667   \n",
       "\n",
       "   days.with.cr.line  revol.bal  revol.util  inq.last.6mths  delinq.2yrs  \\\n",
       "0        5639.958333      28854        52.1               0            0   \n",
       "1        2760.000000      33623        76.7               0            0   \n",
       "2        4710.000000       3511        25.6               1            0   \n",
       "3        2699.958333      33667        73.2               1            0   \n",
       "4        4066.000000       4740        39.5               0            1   \n",
       "\n",
       "   pub.rec  not.fully.paid  \n",
       "0        0               0  \n",
       "1        0               0  \n",
       "2        0               0  \n",
       "3        0               0  \n",
       "4        0               0  "
      ]
     },
     "execution_count": 5,
     "metadata": {},
     "output_type": "execute_result"
    }
   ],
   "source": [
    "#remove the ids\n",
    "df = df.drop(df.columns[0], axis=1)\n",
    "df.head()"
   ]
  },
  {
   "cell_type": "markdown",
   "metadata": {},
   "source": [
    "# Model Building"
   ]
  },
  {
   "cell_type": "code",
   "execution_count": 7,
   "metadata": {},
   "outputs": [],
   "source": [
    "# Train test split\n",
    "X = df.drop(['not.fully.paid'], axis = 1)\n",
    "y = df['not.fully.paid']"
   ]
  },
  {
   "cell_type": "code",
   "execution_count": 8,
   "metadata": {},
   "outputs": [],
   "source": [
    "def random_forest(X,y,estimators,depth):\n",
    "    \n",
    "    # Train test split\n",
    "    X_train, X_test, y_train, y_test = train_test_split(X,y,test_size=0.3,random_state=0)\n",
    "    \n",
    "    clf = RandomForestClassifier(n_estimators=estimators, max_depth=depth, random_state=0)\n",
    "    clf.fit(X_train,y_train)\n",
    "    y_pred = clf.predict(X_test)\n",
    "    print(\"Confusion Matrix : \\n \",confusion_matrix(y_test, y_pred))\n",
    "    print(\"\\n Accuracy Score : \\n \",accuracy_score(y_test,y_pred))\n",
    "    print(\"\\n Classification Report : \\n\",classification_report(y_test, y_pred))"
   ]
  },
  {
   "cell_type": "markdown",
   "metadata": {},
   "source": [
    "## Random Forest\n",
    "\n",
    "- n_estimators = 50\n",
    "- max_depth    = 5"
   ]
  },
  {
   "cell_type": "code",
   "execution_count": 9,
   "metadata": {},
   "outputs": [
    {
     "name": "stdout",
     "output_type": "stream",
     "text": [
      "Confusion Matrix : \n",
      "  [[2106    0]\n",
      " [ 379    0]]\n",
      "\n",
      " Accuracy Score : \n",
      "  0.8474849094567405\n",
      "\n",
      " Classification Report : \n",
      "               precision    recall  f1-score   support\n",
      "\n",
      "           0       0.85      1.00      0.92      2106\n",
      "           1       0.00      0.00      0.00       379\n",
      "\n",
      "    accuracy                           0.85      2485\n",
      "   macro avg       0.42      0.50      0.46      2485\n",
      "weighted avg       0.72      0.85      0.78      2485\n",
      "\n"
     ]
    },
    {
     "name": "stderr",
     "output_type": "stream",
     "text": [
      "/home/thais/anaconda3/lib/python3.7/site-packages/sklearn/metrics/_classification.py:1221: UndefinedMetricWarning: Precision and F-score are ill-defined and being set to 0.0 in labels with no predicted samples. Use `zero_division` parameter to control this behavior.\n",
      "  _warn_prf(average, modifier, msg_start, len(result))\n"
     ]
    }
   ],
   "source": [
    "random_forest(X,y,50,5)"
   ]
  },
  {
   "cell_type": "markdown",
   "metadata": {},
   "source": [
    "## Random Forest\n",
    "\n",
    "- n_estimators = 100\n",
    "- max depth = 10\n"
   ]
  },
  {
   "cell_type": "code",
   "execution_count": 10,
   "metadata": {},
   "outputs": [
    {
     "name": "stdout",
     "output_type": "stream",
     "text": [
      "Confusion Matrix : \n",
      "  [[2104    2]\n",
      " [ 378    1]]\n",
      "\n",
      " Accuracy Score : \n",
      "  0.8470824949698189\n",
      "\n",
      " Classification Report : \n",
      "               precision    recall  f1-score   support\n",
      "\n",
      "           0       0.85      1.00      0.92      2106\n",
      "           1       0.33      0.00      0.01       379\n",
      "\n",
      "    accuracy                           0.85      2485\n",
      "   macro avg       0.59      0.50      0.46      2485\n",
      "weighted avg       0.77      0.85      0.78      2485\n",
      "\n"
     ]
    }
   ],
   "source": [
    "random_forest(X,y,100,10)"
   ]
  },
  {
   "cell_type": "markdown",
   "metadata": {},
   "source": [
    "# Using over-sampling techniques to balanced the classes\n",
    "\n",
    "Here, I have imbalanced classes, the class 1 is much lower than class 0. Therefore, one solution is to increase instances by oversampling the minority class"
   ]
  },
  {
   "cell_type": "code",
   "execution_count": 11,
   "metadata": {},
   "outputs": [],
   "source": [
    "from imblearn.over_sampling import RandomOverSampler, SMOTE, ADASYN"
   ]
  },
  {
   "cell_type": "markdown",
   "metadata": {},
   "source": [
    "## Testing  Naive random over-sampling (RandomOverSampler) method to create syntetic data"
   ]
  },
  {
   "cell_type": "code",
   "execution_count": 12,
   "metadata": {},
   "outputs": [
    {
     "name": "stdout",
     "output_type": "stream",
     "text": [
      "1    7043\n",
      "0    7043\n",
      "Name: not.fully.paid, dtype: int64\n"
     ]
    }
   ],
   "source": [
    "ros = RandomOverSampler(random_state=0)\n",
    "X_ros, y_ros = ros.fit_sample(X, y)\n",
    "\n",
    "# Checking how many instances are in each class after balancing it\n",
    "print(y_ros.value_counts())"
   ]
  },
  {
   "cell_type": "code",
   "execution_count": 13,
   "metadata": {},
   "outputs": [
    {
     "name": "stdout",
     "output_type": "stream",
     "text": [
      "Confusion Matrix : \n",
      "  [[1505  565]\n",
      " [ 942 1214]]\n",
      "\n",
      " Accuracy Score : \n",
      "  0.6433980123047799\n",
      "\n",
      " Classification Report : \n",
      "               precision    recall  f1-score   support\n",
      "\n",
      "           0       0.62      0.73      0.67      2070\n",
      "           1       0.68      0.56      0.62      2156\n",
      "\n",
      "    accuracy                           0.64      4226\n",
      "   macro avg       0.65      0.65      0.64      4226\n",
      "weighted avg       0.65      0.64      0.64      4226\n",
      "\n"
     ]
    }
   ],
   "source": [
    "random_forest(X_ros,y_ros,50,5)"
   ]
  },
  {
   "cell_type": "code",
   "execution_count": 14,
   "metadata": {},
   "outputs": [
    {
     "name": "stdout",
     "output_type": "stream",
     "text": [
      "Confusion Matrix : \n",
      "  [[1656  414]\n",
      " [ 418 1738]]\n",
      "\n",
      " Accuracy Score : \n",
      "  0.8031235210601041\n",
      "\n",
      " Classification Report : \n",
      "               precision    recall  f1-score   support\n",
      "\n",
      "           0       0.80      0.80      0.80      2070\n",
      "           1       0.81      0.81      0.81      2156\n",
      "\n",
      "    accuracy                           0.80      4226\n",
      "   macro avg       0.80      0.80      0.80      4226\n",
      "weighted avg       0.80      0.80      0.80      4226\n",
      "\n"
     ]
    }
   ],
   "source": [
    "random_forest(X_ros,y_ros,100,10)"
   ]
  },
  {
   "cell_type": "markdown",
   "metadata": {},
   "source": [
    "## Testing Synthetic Minority Oversampling Technique (SMOTE) method to create syntetic data"
   ]
  },
  {
   "cell_type": "code",
   "execution_count": 15,
   "metadata": {
    "colab": {},
    "colab_type": "code",
    "id": "zXk5a0hPeA0a"
   },
   "outputs": [],
   "source": [
    "X_smote, y_smote = SMOTE(random_state = 0).fit_resample(X, y)"
   ]
  },
  {
   "cell_type": "code",
   "execution_count": 16,
   "metadata": {},
   "outputs": [
    {
     "name": "stdout",
     "output_type": "stream",
     "text": [
      "Confusion Matrix : \n",
      "  [[1480  590]\n",
      " [ 602 1554]]\n",
      "\n",
      " Accuracy Score : \n",
      "  0.7179365830572646\n",
      "\n",
      " Classification Report : \n",
      "               precision    recall  f1-score   support\n",
      "\n",
      "           0       0.71      0.71      0.71      2070\n",
      "           1       0.72      0.72      0.72      2156\n",
      "\n",
      "    accuracy                           0.72      4226\n",
      "   macro avg       0.72      0.72      0.72      4226\n",
      "weighted avg       0.72      0.72      0.72      4226\n",
      "\n"
     ]
    }
   ],
   "source": [
    "random_forest(X_smote,y_smote,50,5)"
   ]
  },
  {
   "cell_type": "code",
   "execution_count": 17,
   "metadata": {},
   "outputs": [
    {
     "name": "stdout",
     "output_type": "stream",
     "text": [
      "Confusion Matrix : \n",
      "  [[1604  466]\n",
      " [ 466 1690]]\n",
      "\n",
      " Accuracy Score : \n",
      "  0.779460482725982\n",
      "\n",
      " Classification Report : \n",
      "               precision    recall  f1-score   support\n",
      "\n",
      "           0       0.77      0.77      0.77      2070\n",
      "           1       0.78      0.78      0.78      2156\n",
      "\n",
      "    accuracy                           0.78      4226\n",
      "   macro avg       0.78      0.78      0.78      4226\n",
      "weighted avg       0.78      0.78      0.78      4226\n",
      "\n"
     ]
    }
   ],
   "source": [
    "random_forest(X_smote,y_smote,100,10)"
   ]
  },
  {
   "cell_type": "markdown",
   "metadata": {},
   "source": [
    "## Testing Adaptive Synthetic (ADASYN) method to create syntetic data"
   ]
  },
  {
   "cell_type": "code",
   "execution_count": 18,
   "metadata": {
    "colab": {},
    "colab_type": "code",
    "id": "V8BTQcXdBk6b"
   },
   "outputs": [],
   "source": [
    "X_ADASYN, y_ADASYN = ADASYN(random_state = 0).fit_resample(X, y)"
   ]
  },
  {
   "cell_type": "code",
   "execution_count": 19,
   "metadata": {},
   "outputs": [
    {
     "name": "stdout",
     "output_type": "stream",
     "text": [
      "Confusion Matrix : \n",
      "  [[1422  665]\n",
      " [ 580 1520]]\n",
      "\n",
      " Accuracy Score : \n",
      "  0.7026510628134702\n",
      "\n",
      " Classification Report : \n",
      "               precision    recall  f1-score   support\n",
      "\n",
      "           0       0.71      0.68      0.70      2087\n",
      "           1       0.70      0.72      0.71      2100\n",
      "\n",
      "    accuracy                           0.70      4187\n",
      "   macro avg       0.70      0.70      0.70      4187\n",
      "weighted avg       0.70      0.70      0.70      4187\n",
      "\n"
     ]
    }
   ],
   "source": [
    "random_forest(X_ADASYN,y_ADASYN,50,5)"
   ]
  },
  {
   "cell_type": "code",
   "execution_count": 20,
   "metadata": {},
   "outputs": [
    {
     "name": "stdout",
     "output_type": "stream",
     "text": [
      "Confusion Matrix : \n",
      "  [[1599  488]\n",
      " [ 539 1561]]\n",
      "\n",
      " Accuracy Score : \n",
      "  0.7547169811320755\n",
      "\n",
      " Classification Report : \n",
      "               precision    recall  f1-score   support\n",
      "\n",
      "           0       0.75      0.77      0.76      2087\n",
      "           1       0.76      0.74      0.75      2100\n",
      "\n",
      "    accuracy                           0.75      4187\n",
      "   macro avg       0.75      0.75      0.75      4187\n",
      "weighted avg       0.75      0.75      0.75      4187\n",
      "\n"
     ]
    }
   ],
   "source": [
    "random_forest(X_ADASYN,y_ADASYN,100,10)"
   ]
  },
  {
   "cell_type": "markdown",
   "metadata": {},
   "source": [
    "# Defining the best parameters to the classifier through Grid Search method\n",
    "\n",
    "As we could see the best performance with balanced data was with  Naive random over-sampling (RandomOverSampler) method, therefore, I will use it to find the parameters"
   ]
  },
  {
   "cell_type": "code",
   "execution_count": 21,
   "metadata": {},
   "outputs": [],
   "source": [
    "# Train test split\n",
    "X_train, X_test, y_train, y_test = train_test_split(X_ros,y_ros,test_size=0.3,random_state=0)"
   ]
  },
  {
   "cell_type": "markdown",
   "metadata": {},
   "source": [
    "## Grid Search\n",
    "- https://towardsdatascience.com/how-to-tune-a-decision-tree-f03721801680"
   ]
  },
  {
   "cell_type": "code",
   "execution_count": 23,
   "metadata": {},
   "outputs": [
    {
     "data": {
      "text/plain": [
       "GridSearchCV(cv=10, estimator=RandomForestClassifier(),\n",
       "             param_grid={'max_depth': [10, 20, 40],\n",
       "                         'n_estimators': [100, 200, 300]})"
      ]
     },
     "execution_count": 23,
     "metadata": {},
     "output_type": "execute_result"
    }
   ],
   "source": [
    "rfclassifier = RandomForestClassifier()\n",
    "\n",
    "# defining parameter range \n",
    "param_grid = { 'max_depth'   : [10,20,40],\n",
    "               'n_estimators' : [100,200,300]\n",
    "             }  \n",
    "  \n",
    "grid = GridSearchCV(rfclassifier, param_grid, cv = 10) \n",
    "  \n",
    "# fitting the model for grid search \n",
    "grid.fit(X_train, y_train)"
   ]
  },
  {
   "cell_type": "code",
   "execution_count": 24,
   "metadata": {},
   "outputs": [
    {
     "name": "stdout",
     "output_type": "stream",
     "text": [
      "{'max_depth': 40, 'n_estimators': 300}\n",
      "RandomForestClassifier(max_depth=40, n_estimators=300)\n"
     ]
    }
   ],
   "source": [
    "# Best parameter after hyper parameter tuning \n",
    "print(grid.best_params_) \n",
    "  \n",
    "# Moel Parameters \n",
    "print(grid.best_estimator_)"
   ]
  },
  {
   "cell_type": "code",
   "execution_count": 25,
   "metadata": {},
   "outputs": [
    {
     "name": "stdout",
     "output_type": "stream",
     "text": [
      "Confusion Matrix : \n",
      "  [[2005   65]\n",
      " [  32 2124]]\n",
      "\n",
      " Accuracy Score : \n",
      "  0.9770468528159015\n",
      "\n",
      " Classification Report : \n",
      "               precision    recall  f1-score   support\n",
      "\n",
      "           0       0.98      0.97      0.98      2070\n",
      "           1       0.97      0.99      0.98      2156\n",
      "\n",
      "    accuracy                           0.98      4226\n",
      "   macro avg       0.98      0.98      0.98      4226\n",
      "weighted avg       0.98      0.98      0.98      4226\n",
      "\n"
     ]
    }
   ],
   "source": [
    "# Prediction using best parameters\n",
    "grid_predictions = grid.predict(X_test) \n",
    "  \n",
    "# print classification report \n",
    "print(\"Confusion Matrix : \\n \",confusion_matrix(y_test, grid_predictions))\n",
    "print(\"\\n Accuracy Score : \\n \",accuracy_score(y_test,grid_predictions))\n",
    "print(\"\\n Classification Report : \\n\",classification_report(y_test, grid_predictions))"
   ]
  },
  {
   "cell_type": "code",
   "execution_count": null,
   "metadata": {},
   "outputs": [],
   "source": []
  }
 ],
 "metadata": {
  "kernelspec": {
   "display_name": "Python 3",
   "language": "python",
   "name": "python3"
  },
  "language_info": {
   "codemirror_mode": {
    "name": "ipython",
    "version": 3
   },
   "file_extension": ".py",
   "mimetype": "text/x-python",
   "name": "python",
   "nbconvert_exporter": "python",
   "pygments_lexer": "ipython3",
   "version": "3.7.3"
  }
 },
 "nbformat": 4,
 "nbformat_minor": 4
}
